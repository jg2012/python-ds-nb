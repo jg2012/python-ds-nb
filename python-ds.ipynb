{
 "cells": [
  {
   "cell_type": "markdown",
   "metadata": {},
   "source": [
    "# Web Mining and Applied NLP (44-620)\n",
    "\n",
    "## Python Notebooks, Basics, and Data Structures\n",
    "\n",
    "### Student Name: [Jose Guzman](https://github.com/jg2012/python-ds-nb) \n",
    "\n",
    "Perform the tasks described in the Markdown cells below.  When you have completed the assignment make sure your code cells have all been run (and have output beneath them) and ensure you have committed and pushed ALL of your changes to your assignment repository.\n",
    "\n",
    "Every question that requires you to write code will have a code cell underneath it; you may either write your entire solution in that cell or write it in a python file (`.py`), then import and run the appropriate code to answer the question.\n",
    "\n",
    "Do not use external modules (`math`, etc) for this assignment unless you are explicitly instructed to, though you may use built in python functions (`min`, `max`, etc) as you wish."
   ]
  },
  {
   "cell_type": "markdown",
   "metadata": {},
   "source": [
    "1. Modify the Markdown cell above to put your name after \"Student Name:\"; you will be expected to do this in all assignments presented in this format for this class."
   ]
  },
  {
   "cell_type": "markdown",
   "metadata": {},
   "source": [
    "2. Write code that divides any two numbers, stores the result in a variable, and prints the result with an appropriate label."
   ]
  },
  {
   "cell_type": "code",
   "execution_count": 2,
   "metadata": {},
   "outputs": [
    {
     "name": "stdout",
     "output_type": "stream",
     "text": [
      "All prereqs installed.\n",
      "Package                   Version\n",
      "------------------------- -----------\n",
      "annotated-types           0.5.0\n",
      "anyio                     3.7.1\n",
      "appdirs                   1.4.4\n",
      "appnope                   0.1.3\n",
      "argon2-cffi               23.1.0\n",
      "argon2-cffi-bindings      21.2.0\n",
      "arrow                     1.2.3\n",
      "astroid                   2.15.6\n",
      "asttokens                 2.2.1\n",
      "async-lru                 2.0.4\n",
      "attrs                     23.1.0\n",
      "Babel                     2.12.1\n",
      "backcall                  0.2.0\n",
      "beautifulsoup4            4.12.2\n",
      "black                     23.9.1\n",
      "bleach                    6.0.0\n",
      "blinker                   1.7.0\n",
      "blis                      0.7.10\n",
      "build                     0.10.0\n",
      "catalogue                 2.0.9\n",
      "certifi                   2023.7.22\n",
      "cffi                      1.15.1\n",
      "chardet                   5.2.0\n",
      "charset-normalizer        3.2.0\n",
      "click                     8.1.7\n",
      "comm                      0.1.4\n",
      "confection                0.1.1\n",
      "contourpy                 1.1.0\n",
      "cycler                    0.11.0\n",
      "cymem                     2.0.7\n",
      "debugpy                   1.6.7.post1\n",
      "deck                      3.0.0\n",
      "decorator                 5.1.1\n",
      "defusedxml                0.7.1\n",
      "dill                      0.3.7\n",
      "dodgy                     0.2.1\n",
      "dweepy                    0.3.0\n",
      "executing                 1.2.0\n",
      "fastjsonschema            2.18.0\n",
      "flake8                    5.0.4\n",
      "flake8-polyfill           1.0.2\n",
      "Flask                     3.0.0\n",
      "fonttools                 4.42.1\n",
      "fqdn                      1.5.1\n",
      "geographiclib             2.0\n",
      "geopy                     2.4.0\n",
      "gitdb                     4.0.10\n",
      "GitPython                 3.1.32\n",
      "idna                      3.4\n",
      "imageio                   2.31.3\n",
      "ipykernel                 6.25.2\n",
      "ipython                   8.14.0\n",
      "ipython-genutils          0.2.0\n",
      "ipywidgets                8.1.1\n",
      "isoduration               20.11.0\n",
      "isort                     5.12.0\n",
      "itsdangerous              2.1.2\n",
      "jedi                      0.19.0\n",
      "Jinja2                    3.1.2\n",
      "joblib                    1.3.2\n",
      "json5                     0.9.14\n",
      "jsonpointer               2.4\n",
      "jsonschema                4.19.0\n",
      "jsonschema-specifications 2023.7.1\n",
      "jupyter                   1.0.0\n",
      "jupyter_client            8.3.0\n",
      "jupyter-console           6.6.3\n",
      "jupyter_core              5.3.1\n",
      "jupyter-events            0.7.0\n",
      "jupyter-lsp               2.2.0\n",
      "jupyter_server            2.7.2\n",
      "jupyter_server_terminals  0.4.4\n",
      "jupyterlab                4.0.5\n",
      "jupyterlab-pygments       0.2.2\n",
      "jupyterlab_server         2.24.0\n",
      "jupyterlab-widgets        3.0.9\n",
      "kiwisolver                1.4.4\n",
      "langcodes                 3.3.0\n",
      "lazy-object-proxy         1.9.0\n",
      "MarkupSafe                2.1.3\n",
      "matplotlib                3.7.3\n",
      "matplotlib-inline         0.1.6\n",
      "mccabe                    0.7.0\n",
      "mistune                   3.0.1\n",
      "murmurhash                1.0.9\n",
      "mypy-extensions           1.0.0\n",
      "nbclient                  0.7.4\n",
      "nbconvert                 7.7.4\n",
      "nbformat                  5.9.2\n",
      "nest-asyncio              1.5.7\n",
      "nltk                      3.8.1\n",
      "notebook                  7.0.4\n",
      "notebook_shim             0.2.3\n",
      "numpy                     1.25.2\n",
      "overrides                 7.4.0\n",
      "packaging                 23.1\n",
      "pandas                    2.1.0\n",
      "pandocfilters             1.5.0\n",
      "parso                     0.8.3\n",
      "pathspec                  0.11.2\n",
      "pathy                     0.10.2\n",
      "pep8-naming               0.10.0\n",
      "pexpect                   4.8.0\n",
      "pickleshare               0.7.5\n",
      "Pillow                    10.0.0\n",
      "pip                       24.0\n",
      "platformdirs              3.10.0\n",
      "preshed                   3.0.8\n",
      "prometheus-client         0.17.1\n",
      "prompt-toolkit            3.0.39\n",
      "prospector                1.10.2\n",
      "psutil                    5.9.5\n",
      "ptyprocess                0.7.0\n",
      "pure-eval                 0.2.2\n",
      "pycodestyle               2.9.1\n",
      "pycparser                 2.21\n",
      "pydantic                  2.2.1\n",
      "pydantic_core             2.6.1\n",
      "pydocstyle                6.3.0\n",
      "pyflakes                  2.5.0\n",
      "Pygments                  2.16.1\n",
      "PyHyphen                  4.0.3\n",
      "pylint                    2.17.5\n",
      "pylint-celery             0.3\n",
      "pylint-django             2.5.3\n",
      "pylint-flask              0.6\n",
      "pylint-plugin-utils       0.7\n",
      "pyparsing                 3.0.9\n",
      "pyproject_hooks           1.0.0\n",
      "python-dateutil           2.8.2\n",
      "python-json-logger        2.0.7\n",
      "pytz                      2023.3\n",
      "PyYAML                    6.0.1\n",
      "pyzmq                     25.1.1\n",
      "qtconsole                 5.4.4\n",
      "QtPy                      2.4.0\n",
      "referencing               0.30.2\n",
      "regex                     2023.8.8\n",
      "requests                  2.31.0\n",
      "requirements-detector     1.2.2\n",
      "rfc3339-validator         0.1.4\n",
      "rfc3986-validator         0.1.1\n",
      "rpds-py                   0.9.2\n",
      "ruff                      0.0.289\n",
      "scikit-learn              1.3.0\n",
      "scipy                     1.11.2\n",
      "seaborn                   0.12.2\n",
      "semver                    3.0.1\n",
      "Send2Trash                1.8.2\n",
      "setoptconf-tmp            0.3.1\n",
      "setuptools                68.1.2\n",
      "six                       1.16.0\n",
      "smart-open                6.3.0\n",
      "smmap                     5.0.0\n",
      "sniffio                   1.3.0\n",
      "snowballstemmer           2.2.0\n",
      "soupsieve                 2.4.1\n",
      "spacy                     3.6.1\n",
      "spacy-legacy              3.0.12\n",
      "spacy-loggers             1.0.4\n",
      "srsly                     2.4.7\n",
      "stack-data                0.6.2\n",
      "termcolor                 2.3.0\n",
      "terminado                 0.17.1\n",
      "textatistic               0.0.1\n",
      "textblob                  0.17.1\n",
      "thinc                     8.1.12\n",
      "threadpoolctl             3.2.0\n",
      "tinycss2                  1.2.1\n",
      "toml                      0.10.2\n",
      "tomlkit                   0.12.1\n",
      "tornado                   6.3.3\n",
      "tqdm                      4.66.1\n",
      "traitlets                 5.9.0\n",
      "typer                     0.9.0\n",
      "typing_extensions         4.7.1\n",
      "tzdata                    2023.3\n",
      "uri-template              1.3.0\n",
      "urllib3                   2.0.4\n",
      "util-logger               0.3.1\n",
      "voila                     0.5.2\n",
      "wasabi                    1.1.2\n",
      "wcwidth                   0.2.6\n",
      "webcolors                 1.13\n",
      "webencodings              0.5.1\n",
      "websocket-client          1.6.2\n",
      "websockets                11.0.3\n",
      "Werkzeug                  3.0.1\n",
      "wheel                     0.41.2\n",
      "widgetsnbextension        4.0.9\n",
      "wrapt                     1.15.0\n",
      "xlrd                      2.0.1\n"
     ]
    }
   ],
   "source": [
    "# Create and activate a Python virtual environment. \n",
    "# Before starting the project, try all these imports FIRST\n",
    "# Address any errors you get running this code cell \n",
    "# by installing the necessary packages into your active Python environment.\n",
    "# Try to resolve issues using your materials and the web.\n",
    "# If that doesn't work, ask for help in the discussion forums.\n",
    "# You can't complete the exercises until you import these - start early! \n",
    "# We also import Counter and randint (included in the Python Standard Library).\n",
    "\n",
    "from collections import Counter\n",
    "from random import randint\n",
    "import matplotlib.pyplot as plt\n",
    "\n",
    "print('All prereqs installed.')\n",
    "!pip list"
   ]
  },
  {
   "cell_type": "code",
   "execution_count": 3,
   "metadata": {},
   "outputs": [
    {
     "name": "stdout",
     "output_type": "stream",
     "text": [
      "Answer =  2.0\n"
     ]
    }
   ],
   "source": [
    "a = 6\n",
    "b = 3\n",
    "\n",
    "c = a/b\n",
    "\n",
    "print (\"Answer = \" , c)"
   ]
  },
  {
   "cell_type": "markdown",
   "metadata": {},
   "source": [
    "3. Using loops (and potentially conditionals), write Python code that prints the factorial of each integer from 1 through 10 (which you can store in a variable if you want). The factorial of an integer is the product of all of the integers of 1 through the number. Print the result with an appropriate label."
   ]
  },
  {
   "cell_type": "code",
   "execution_count": 4,
   "metadata": {},
   "outputs": [
    {
     "name": "stdout",
     "output_type": "stream",
     "text": [
      "Factorial of 1 : 1\n",
      "Factorial of 2 : 2\n",
      "Factorial of 3 : 6\n",
      "Factorial of 4 : 24\n",
      "Factorial of 5 : 120\n",
      "Factorial of 6 : 720\n",
      "Factorial of 7 : 5040\n",
      "Factorial of 8 : 40320\n",
      "Factorial of 9 : 362880\n",
      "Factorial of 10 : 3628800\n"
     ]
    }
   ],
   "source": [
    "# Function to calculate factorial\n",
    "def factorial(n):\n",
    "    result = 1\n",
    "    for i in range(1, n + 1):\n",
    "        result *= i\n",
    "    return result\n",
    "\n",
    "# Loop through integers from 1 to 10 and print their factorials\n",
    "for i in range(1, 11):\n",
    "    print(\"Factorial of\", i, \":\", factorial(i))\n"
   ]
  },
  {
   "cell_type": "markdown",
   "metadata": {},
   "source": [
    "4. Write a python function that takes a single parameter and calculates and returns the average (mean) of the values in the parameter (which you may assume is iterable).  Show that your function works by printing the result of calling the function on the list in the cell below."
   ]
  },
  {
   "cell_type": "code",
   "execution_count": 5,
   "metadata": {},
   "outputs": [
    {
     "name": "stdout",
     "output_type": "stream",
     "text": [
      "Average: 0.0\n"
     ]
    }
   ],
   "source": [
    "def calculate_average(values):\n",
    "    total = sum(values)\n",
    "    count = len(values)\n",
    "    if count == 0:\n",
    "        return 0  # Return 0 if the iterable is empty to avoid division by zero\n",
    "    return total / count\n",
    "\n",
    "# Test list\n",
    "testlist = [1, -1, 2, -2, 3, -3, 4, -4]\n",
    "\n",
    "# Calculate and print the average\n",
    "print(\"Average:\", calculate_average(testlist))\n"
   ]
  },
  {
   "cell_type": "markdown",
   "metadata": {},
   "source": [
    "5. Using your mean function above, write a function that calculates the variance of the list of numbers (see https://en.wikipedia.org/wiki/Variance for more information on the formula). In short:\n",
    "* subtract the mean of the elements in the list from every element in the list; store these values in a new list\n",
    "* square every element in the new list and sum the elements together\n",
    "* divide the resulting number by N (where N is the length of the original list)\n",
    "\n",
    "Show the result of calling your function in the lists in the code cell. You must use one or more list comprehensions or map/filter in your code.\n"
   ]
  },
  {
   "cell_type": "code",
   "execution_count": 6,
   "metadata": {},
   "outputs": [
    {
     "name": "stdout",
     "output_type": "stream",
     "text": [
      "Variance of list1: 1.13973309\n",
      "Variance of list2: 0.9257232841\n"
     ]
    }
   ],
   "source": [
    "def calculate_mean(values):\n",
    "    total = sum(values)\n",
    "    count = len(values)\n",
    "    if count == 0:\n",
    "        return 0  # Return 0 if the iterable is empty to avoid division by zero\n",
    "    return total / count\n",
    "\n",
    "def calculate_variance(values):\n",
    "    mean = calculate_mean(values)\n",
    "    squared_diff = [(x - mean) ** 2 for x in values]\n",
    "    variance = sum(squared_diff) / len(values)\n",
    "    return variance\n",
    "\n",
    "# Test lists\n",
    "list1 = [5.670e-1, -1.480e+0, -5.570e-1, -1.470e+0, 7.340e-1, 1.050e+0, 4.480e-1, 2.570e-1, -1.970e+0, -1.460e+0]\n",
    "list2 = [-1.780e+0, 2.640e-1, 1.160e+0, 9.080e-1, 1.780e+0, 1.080e+0, 1.050e+0, -4.630e-2, 1.520e+0, 5.350e-1]\n",
    "\n",
    "# Calculate and print the variances\n",
    "print(\"Variance of list1:\", calculate_variance(list1))\n",
    "print(\"Variance of list2:\", calculate_variance(list2))\n"
   ]
  },
  {
   "cell_type": "markdown",
   "metadata": {},
   "source": [
    "6. Create a list with at least 15 elements in it. Use list slicing to print the following:\n",
    "* The first 5 elements of the list\n",
    "* The last 5 elements of the list\n",
    "* The list reversed (hint, show the entire list with a stride of -1)\n",
    "* Every second element in the list\n",
    "* Every third element in the list (stride of 3)"
   ]
  },
  {
   "cell_type": "code",
   "execution_count": 7,
   "metadata": {},
   "outputs": [
    {
     "name": "stdout",
     "output_type": "stream",
     "text": [
      "First 5 elements: [1, 2, 3, 4, 5]\n",
      "Last 5 elements: [16, 17, 18, 19, 20]\n",
      "Reversed list: [20, 19, 18, 17, 16, 15, 14, 13, 12, 11, 10, 9, 8, 7, 6, 5, 4, 3, 2, 1]\n",
      "Every second element: [1, 3, 5, 7, 9, 11, 13, 15, 17, 19]\n",
      "Every third element: [1, 4, 7, 10, 13, 16, 19]\n"
     ]
    }
   ],
   "source": [
    "# Create a list with at least 15 elements\n",
    "my_list = [i for i in range(1, 21)]  # A list with elements from 1 to 20\n",
    "\n",
    "# Print the first 5 elements of the list\n",
    "print(\"First 5 elements:\", my_list[:5])\n",
    "\n",
    "# Print the last 5 elements of the list\n",
    "print(\"Last 5 elements:\", my_list[-5:])\n",
    "\n",
    "# Print the list reversed\n",
    "print(\"Reversed list:\", my_list[::-1])\n",
    "\n",
    "# Print every second element in the list\n",
    "print(\"Every second element:\", my_list[::2])\n",
    "\n",
    "# Print every third element in the list\n",
    "print(\"Every third element:\", my_list[::3])\n"
   ]
  },
  {
   "cell_type": "markdown",
   "metadata": {},
   "source": [
    "7. Build a dictionary that contains the following information about this class (with appropriate names as keys):\n",
    "* The name\n",
    "* The course number\n",
    "* The semester/term in which you are taking this course\n",
    "* The number of credit hours this course counts for\n",
    "* A list of the course learning objectives\n",
    "\n",
    "The majority of this information can be found in the syllabus. Print the dictionary."
   ]
  },
  {
   "cell_type": "code",
   "execution_count": 8,
   "metadata": {},
   "outputs": [
    {
     "name": "stdout",
     "output_type": "stream",
     "text": [
      "Class Information:\n",
      "Name: Web Mining & Applied Natural Language Proccessing\n",
      "Course_number:  44-620\n",
      "Semester:  Spring 2024\n",
      "Credt_hours: 3\n",
      "Learning_objectives: ['Manage Python libraries and packages ', 'Interact with Hosted Version Control Systems', 'Programmatically obtain and transform data from web-based APIs and HTML pages into a usable form', 'Describe the steps in a basic Natural Language Processing Pipeline', 'Use preexisting tools and software libraries to perform some Natural Language Processing, such as sentiment analysis.', '  Explain results and conclusions drawn from the visualized information.']\n"
     ]
    }
   ],
   "source": [
    "class_info = {\n",
    "    \"name\" : \"Web Mining & Applied Natural Language Proccessing\",\n",
    "    \"course_number\" : \" 44-620\",\n",
    "    \"semester\" : \" Spring 2024\",\n",
    "    \"credt_hours\" : 3, \n",
    "    \"learning_objectives\" : [\n",
    "        \"Manage Python libraries and packages \",\n",
    "        \"Interact with Hosted Version Control Systems\", \n",
    "        \"Programmatically obtain and transform data from web-based APIs and HTML pages into a usable form\" ,\n",
    "        \"Describe the steps in a basic Natural Language Processing Pipeline\", \n",
    "        \"Use preexisting tools and software libraries to perform some Natural Language Processing, such as sentiment analysis.\",\n",
    "    \"  Explain results and conclusions drawn from the visualized information.\"\n",
    "\n",
    "    ]\n",
    "}\n",
    "\n",
    "# Print the dictionary\n",
    "print(\"Class Information:\")\n",
    "for key, value in class_info.items():\n",
    "    print(f\"{key.capitalize()}: {value}\")"
   ]
  },
  {
   "cell_type": "markdown",
   "metadata": {},
   "source": [
    "8.  Given the dictionary defined in the code cell below, print the list of level 3 spells the character has."
   ]
  },
  {
   "cell_type": "code",
   "execution_count": 9,
   "metadata": {},
   "outputs": [
    {
     "name": "stdout",
     "output_type": "stream",
     "text": [
      "Level 3 Spells:\n",
      "['Mass Healing Word', 'Nondetection', 'Revivify', 'Feign Death', 'Speak with Dead']\n"
     ]
    }
   ],
   "source": [
    "player_character = {'name': 'Kitab',\n",
    "                   'class': [('Cleric: Knowledge', 7)],\n",
    "                   'spells': {'cantrip': ['Guidance', 'Light', 'Thaumaturgy', 'Toll the Dead', 'Word of Radiance'],\n",
    "                             'level 1': ['Command', 'Detect Magic', 'Healing Word', 'Identify', 'Sleep'],\n",
    "                             'level 2': ['Augury', 'Calm Emotions', 'Command', 'Invisibility', 'Lesser Restoration'],\n",
    "                             'level 3': ['Mass Healing Word', 'Nondetection', 'Revivify', 'Feign Death', 'Speak with Dead'],\n",
    "                             'level 4': ['Banishment', 'Confusion']}\n",
    "                   }\n",
    "\n",
    "# Print the list of level 3 spells\n",
    "print(\"Level 3 Spells:\")\n",
    "print(player_character['spells']['level 3'])\n"
   ]
  },
  {
   "cell_type": "markdown",
   "metadata": {},
   "source": [
    "9. Write code to determine the number of unique elements in the list below.  You MUST use a set in finding your solution.  Print the number of unique values in the list with an appropriate label."
   ]
  },
  {
   "cell_type": "code",
   "execution_count": 10,
   "metadata": {},
   "outputs": [
    {
     "name": "stdout",
     "output_type": "stream",
     "text": [
      "Number of unique values: 12\n"
     ]
    }
   ],
   "source": [
    "# List of values\n",
    "values = [10, 11, 10, 8, 1, 12, 0, 1, 6, 5, 5, 13, 6, 15, 0, 0, 1, 1, 9, 7]\n",
    "\n",
    "# Use a set to get unique elements\n",
    "unique_values = set(values)\n",
    "\n",
    "# Print the number of unique values\n",
    "print(\"Number of unique values:\", len(unique_values))\n"
   ]
  },
  {
   "cell_type": "markdown",
   "metadata": {},
   "source": [
    "10. Create a new Jupyter Notebook (the name of the notebook should be your S number). Add a Markdown cell that contains your name. Add a Code cell and write Python that uses loops to draw the following pattern:\n",
    "\n",
    "```\n",
    "*      *\n",
    "**    **\n",
    "***  ***\n",
    "********\n",
    "```\n",
    "Make sure to add and submit both the new notebook and the changes to this notebook for this assignment."
   ]
  },
  {
   "cell_type": "code",
   "execution_count": 11,
   "metadata": {},
   "outputs": [
    {
     "name": "stdout",
     "output_type": "stream",
     "text": [
      "[NbConvertApp] Converting notebook python-ds.ipynb to html\n",
      "[NbConvertApp] Writing 285917 bytes to python-ds.html\n"
     ]
    }
   ],
   "source": [
    "!jupyter nbconvert --to html python-ds.ipynb"
   ]
  }
 ],
 "metadata": {
  "kernelspec": {
   "display_name": "Python (.venv)",
   "language": "python",
   "name": ".venv"
  },
  "language_info": {
   "codemirror_mode": {
    "name": "ipython",
    "version": 3
   },
   "file_extension": ".py",
   "mimetype": "text/x-python",
   "name": "python",
   "nbconvert_exporter": "python",
   "pygments_lexer": "ipython3",
   "version": "3.11.4"
  }
 },
 "nbformat": 4,
 "nbformat_minor": 4
}
