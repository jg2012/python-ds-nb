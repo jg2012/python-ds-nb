{
 "cells": [
  {
   "cell_type": "code",
   "execution_count": 1,
   "metadata": {},
   "outputs": [
    {
     "name": "stdout",
     "output_type": "stream",
     "text": [
      "*      *\n",
      "**    **\n",
      "***  ***\n",
      "********\n"
     ]
    }
   ],
   "source": [
    "# Define the height of the pattern\n",
    "height = 4\n",
    "\n",
    "# Loop through each row\n",
    "for i in range(height):\n",
    "    # Print left side of the pattern\n",
    "    for j in range(i + 1):\n",
    "        print(\"*\", end=\"\")\n",
    "    # Print spaces between two sides of the pattern\n",
    "    for k in range((height - i - 1) * 2):\n",
    "        print(\" \", end=\"\")\n",
    "    # Print right side of the pattern\n",
    "    for l in range(i + 1):\n",
    "        print(\"*\", end=\"\")\n",
    "    # Move to the next line for the next row\n",
    "    print()\n"
   ]
  },
  {
   "cell_type": "code",
   "execution_count": 2,
   "metadata": {},
   "outputs": [
    {
     "name": "stdout",
     "output_type": "stream",
     "text": [
      "[NbConvertApp] Converting notebook S567701.ipynb to html\n",
      "[NbConvertApp] Writing 267513 bytes to S567701.html\n"
     ]
    }
   ],
   "source": [
    "!jupyter nbconvert --to html S567701.ipynb"
   ]
  }
 ],
 "metadata": {
  "kernelspec": {
   "display_name": "Python (.venv)",
   "language": "python",
   "name": ".venv"
  },
  "language_info": {
   "codemirror_mode": {
    "name": "ipython",
    "version": 3
   },
   "file_extension": ".py",
   "mimetype": "text/x-python",
   "name": "python",
   "nbconvert_exporter": "python",
   "pygments_lexer": "ipython3",
   "version": "3.11.4"
  }
 },
 "nbformat": 4,
 "nbformat_minor": 2
}
